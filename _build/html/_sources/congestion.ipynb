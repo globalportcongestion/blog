{
 "cells": [
  {
   "cell_type": "code",
   "execution_count": 1,
   "metadata": {
    "tags": [
     "remove-cell"
    ]
   },
   "outputs": [],
   "source": [
    "import pandas as pd\n",
    "import plotly.express as px\n",
    "\n",
    "mapbox_token = \"pk.eyJ1IjoiemhvbmdqdW5tYSIsImEiOiJja2pwbzA3c2YwNjd3MnJxaDFrcHh5NmNyIn0.6mzTX-clHuP5h9lUO17TCw\"\n",
    "BORDER_SIZE = 10\n",
    "DATA_DIR = '../data'"
   ]
  },
  {
   "cell_type": "markdown",
   "metadata": {},
   "source": [
    "# Port Congestion\n",
    "\n",
    "We define two congestion indices:\n",
    "\n",
    "Average Congestion Rate (ACR) --- A weighted average of the congestion rates for the top 50 container ports worldwide, with the weights determined by the number of ship visits to each port:\n",
    "\n",
    "$$\n",
    "ACR_t = \\sum_{p \\in \\mathcal{P}} \\left[ \\frac{Delayed_{pt} + Undelayed_{pt}}{\\sum_{p \\in \\mathcal{P}} \\left( Delayed_{pt} + Undelayed_{pt} \\right)} \\cdot Congestion_{pt} \\right],\n",
    "$$ (acr)\n",
    "\n",
    "where the congestion rate for each port $p \\in \\mathcal{P}$ is computed by dividing the number of delayed ship visits by the total number of ship visits:\n",
    "\n",
    "$$\n",
    "Congestion_{pt} \\equiv \\frac{Delayed_{pt}}{Delayed_{pt} + Undelayed_{pt}}, \\ \\forall p \\in \\mathcal{P}. \n",
    "$$ (congestion_rate_for_a_port)\n",
    "\n",
    "$Delayed_{pt}$ and $Undelayed_{pt}$ represent the number of delayed and undelayed ship visits at port $p$ in month $t$, respectively. The full list of the top 50 container ports can be found using the following link: https://www.worldshipping.org/top-50-ports.\n",
    "\n",
    "Average Congestion Time (ACT) --- The average number of hours a containership waits in an anchorage area of a port before docking at a berth, weighted by the number of ship visits to the top 50 container ports worldwide:\n",
    "\n",
    "$$\n",
    "ACT_t = \\sum_{p \\in \\mathcal{P}} \\left[ \\frac{Delayed_{pt} + Undelayed_{pt}}{\\sum_{p \\in \\mathcal{P}} \\left( Delayed_{pt} + Undelayed_{pt} \\right)} \\cdot \\frac{DelayHours_{pt}}{Delayed_{pt} + Undelayed_{pt}} \\right], \n",
    "$$ (ACT)\n",
    "\n",
    "where $DelayHours_{pt}$ represents the total number of hours that containerships spend in the anchorage areas of port $p$ in month $t$, respectively. "
   ]
  },
  {
   "cell_type": "markdown",
   "metadata": {},
   "source": [
    "The identification of berth and anchorage areas in each port is achieved through the application of the IMA-DBSCAN algorithm, i.e., the Iterative, Multi-Attribute, Density-Based Spatial Clustering of Applications with Noise. The details and pseudo-codes can be found in Bai *et al*. (2023){cite}`bai2023imadbscan` and Bai *et al*. (2024){cite}`bai2023supply`. \n",
    "\n",
    "The monthly series of the ACR and ACT indices can be downloaded using the provided link: [Aggregated Congestion Indices](./data/congestion_indices.xlsx). Additionally, the disaggregated monthly series of congestion rates for the top 50 container ports are visualized in the following plot:"
   ]
  },
  {
   "cell_type": "code",
   "execution_count": 2,
   "metadata": {
    "tags": [
     "remove-cell"
    ]
   },
   "outputs": [],
   "source": [
    "# df = pd.read_csv(f\"{DATA_DIR}/congestion_new_with_coords.csv\", sep=\"|\", header=0)\n",
    "# df = df.loc[df[\"year\"] >= 2017].copy()\n",
    "# df = df.round({\"total_congestion_time\": 1, \"act\": 2, \"aact\": 2, \"acr\": 4})\n",
    "# df = df.rename(columns={\"act\": \"ACT\", \"aact\": \"AACT\", \"acr\": \"ACR\"})\n",
    "# df[\"ACR\"] = df[\"ACR\"].apply(lambda x: format(x, \".2%\"))\n",
    "# df[\"Time\"] = df.apply(\n",
    "#     lambda x: pd.Timestamp(x[\"year\"], x[\"month\"], 1)\n",
    "#     .date()\n",
    "#     .strftime(\"%Y-%m\"),\n",
    "#     axis=1,\n",
    "# )\n",
    "# sizeref = 2. * df['ACT'].max() / (40 ** 2)\n",
    "# df['size'] = df[\"ACT\"]/sizeref"
   ]
  },
  {
   "cell_type": "code",
   "execution_count": 3,
   "metadata": {
    "scrolled": true,
    "tags": [
     "remove-input"
    ]
   },
   "outputs": [],
   "source": [
    "# fig = px.scatter_geo(\n",
    "#     df,\n",
    "#     lat=\"latitude\",\n",
    "#     lon=\"longitude\",\n",
    "#     # text=congestion_df['act'].round(1).astype(int),\n",
    "#     size=\"size\",\n",
    "#     hover_name=\"port_name\",\n",
    "#     hover_data={\n",
    "#         \"ACR\": True,\n",
    "#         \"ACT\": True,\n",
    "#         \"AACT\": True,\n",
    "#         \"Time\": False,\n",
    "#         \"size\": False,\n",
    "#         \"latitude\": False,\n",
    "#         \"longitude\": False,\n",
    "#     },\n",
    "#     animation_frame=\"Time\",\n",
    "#     projection=\"natural earth\",\n",
    "#     # scope='asia',\n",
    "#     # width=800,\n",
    "#     # height=600,\n",
    "#     opacity=1,\n",
    "#     size_max=40,\n",
    "#     title=\"Congestion of top 50 container ports from 2017-01 to 2023-10\",\n",
    "# )\n",
    "# # fig.update_layout(\n",
    "# #     margin={\"l\": BORDER_SIZE, \"r\": BORDER_SIZE},\n",
    "# # )\n",
    "# fig.show()"
   ]
  },
  {
   "cell_type": "markdown",
   "metadata": {},
   "source": [
    "<!-- Our research{cite}`bai2023supply` suggests that a misunderstanding of global supply chains may have contributed to inflation forecasting errors, and related content was reported in the Wall Street Journal{cite}`wsj2023supply`. Initially, many economists dismissed the early 2021 U.S. inflation as temporary, caused by pandemic-related supply chain disruptions. However, inflation persisted, leading to a new narrative that it was driven by a tight labor market. But inflation cooled in 2023 despite low unemployment, possibly because supply chain problems lasted longer than realized. We used ACR to measure port congestion globally, showing delays increased in 2020 and remained elevated through mid-2022, explaining inflation’s persistence. As ACR fell from August 2022, so did core inflation. The model proposed in this study shows that the supply-chain shock made prices unusually sensitive to changes in demand, so reining in demand can help a lot. -->"
   ]
  },
  {
   "cell_type": "markdown",
   "metadata": {},
   "source": [
    "## References\n",
    "\n",
    "```{bibliography}\n",
    ":filter: docname in docnames\n",
    "```"
   ]
  }
 ],
 "metadata": {
  "kernelspec": {
   "display_name": "Python 3 (ipykernel)",
   "language": "python",
   "name": "python3"
  },
  "language_info": {
   "codemirror_mode": {
    "name": "ipython",
    "version": 3
   },
   "file_extension": ".py",
   "mimetype": "text/x-python",
   "name": "python",
   "nbconvert_exporter": "python",
   "pygments_lexer": "ipython3",
   "version": "3.11.9"
  }
 },
 "nbformat": 4,
 "nbformat_minor": 4
}
