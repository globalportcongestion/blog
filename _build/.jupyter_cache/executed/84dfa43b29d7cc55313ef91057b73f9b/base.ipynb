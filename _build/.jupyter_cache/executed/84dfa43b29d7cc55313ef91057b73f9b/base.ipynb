{
 "cells": [
  {
   "cell_type": "code",
   "execution_count": 1,
   "metadata": {
    "tags": [
     "remove-cell"
    ]
   },
   "outputs": [],
   "source": [
    "import pandas as pd\n",
    "import plotly.express as px\n",
    "\n",
    "mapbox_token = \"pk.eyJ1IjoiemhvbmdqdW5tYSIsImEiOiJja2pwbzA3c2YwNjd3MnJxaDFrcHh5NmNyIn0.6mzTX-clHuP5h9lUO17TCw\"\n",
    "BORDER_SIZE = 10\n",
    "DATA_DIR = '../data'"
   ]
  },
  {
   "cell_type": "code",
   "execution_count": 2,
   "metadata": {
    "tags": [
     "remove-cell"
    ]
   },
   "outputs": [],
   "source": [
    "# df = pd.read_csv(f\"{DATA_DIR}/congestion_new_with_coords.csv\", sep=\"|\", header=0)\n",
    "# df = df.loc[df[\"year\"] >= 2017].copy()\n",
    "# df = df.round({\"total_congestion_time\": 1, \"act\": 2, \"aact\": 2, \"acr\": 4})\n",
    "# df = df.rename(columns={\"act\": \"ACT\", \"aact\": \"AACT\", \"acr\": \"ACR\"})\n",
    "# df[\"ACR\"] = df[\"ACR\"].apply(lambda x: format(x, \".2%\"))\n",
    "# df[\"Time\"] = df.apply(\n",
    "#     lambda x: pd.Timestamp(x[\"year\"], x[\"month\"], 1)\n",
    "#     .date()\n",
    "#     .strftime(\"%Y-%m\"),\n",
    "#     axis=1,\n",
    "# )\n",
    "# sizeref = 2. * df['ACT'].max() / (40 ** 2)\n",
    "# df['size'] = df[\"ACT\"]/sizeref"
   ]
  },
  {
   "cell_type": "code",
   "execution_count": 3,
   "metadata": {
    "scrolled": true,
    "tags": [
     "remove-input"
    ]
   },
   "outputs": [],
   "source": [
    "# fig = px.scatter_geo(\n",
    "#     df,\n",
    "#     lat=\"latitude\",\n",
    "#     lon=\"longitude\",\n",
    "#     # text=congestion_df['act'].round(1).astype(int),\n",
    "#     size=\"size\",\n",
    "#     hover_name=\"port_name\",\n",
    "#     hover_data={\n",
    "#         \"ACR\": True,\n",
    "#         \"ACT\": True,\n",
    "#         \"AACT\": True,\n",
    "#         \"Time\": False,\n",
    "#         \"size\": False,\n",
    "#         \"latitude\": False,\n",
    "#         \"longitude\": False,\n",
    "#     },\n",
    "#     animation_frame=\"Time\",\n",
    "#     projection=\"natural earth\",\n",
    "#     # scope='asia',\n",
    "#     # width=800,\n",
    "#     # height=600,\n",
    "#     opacity=1,\n",
    "#     size_max=40,\n",
    "#     title=\"Congestion of top 50 container ports from 2017-01 to 2023-10\",\n",
    "# )\n",
    "# # fig.update_layout(\n",
    "# #     margin={\"l\": BORDER_SIZE, \"r\": BORDER_SIZE},\n",
    "# # )\n",
    "# fig.show()"
   ]
  }
 ],
 "metadata": {
  "kernelspec": {
   "display_name": "Python 3 (ipykernel)",
   "language": "python",
   "name": "python3"
  },
  "language_info": {
   "codemirror_mode": {
    "name": "ipython",
    "version": 3
   },
   "file_extension": ".py",
   "mimetype": "text/x-python",
   "name": "python",
   "nbconvert_exporter": "python",
   "pygments_lexer": "ipython3",
   "version": "3.11.9"
  }
 },
 "nbformat": 4,
 "nbformat_minor": 4
}